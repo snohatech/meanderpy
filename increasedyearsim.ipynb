{
 "cells": [
  {
   "cell_type": "code",
   "execution_count": 1,
   "id": "8a5e11b8",
   "metadata": {},
   "outputs": [],
   "source": [
    "import numpy as np\n",
    "import os\n",
    "import matplotlib.pyplot as plt\n",
    "%matplotlib inline\n",
    "import pandas as pd\n",
    "import meanderpy as mp ## https://github.com/zsylvester/meanderpy\n",
    "from importlib import reload\n",
    "reload(mp)\n",
    "import matplotlib as mpl\n",
    "import matplotlib.pyplot as plt\n",
    "import matplotlib.patches as ptc\n",
    "import numpy as np\n",
    "import matplotlib as mpl\n",
    "mpl.rcParams['figure.dpi'] = 600"
   ]
  },
  {
   "cell_type": "code",
   "execution_count": null,
   "id": "cd1c9755",
   "metadata": {
    "scrolled": true
   },
   "outputs": [
    {
     "name": "stdout",
     "output_type": "stream",
     "text": [
      "sim time: 0.0 Years\n",
      "migration rate: 60.0\n"
     ]
    },
    {
     "name": "stderr",
     "output_type": "stream",
     "text": [
      "100%|█████████████████████████████████████████████| 2/2 [00:00<00:00,  2.19it/s]\n"
     ]
    },
    {
     "name": "stdout",
     "output_type": "stream",
     "text": [
      "sim time: 1.0 Years\n",
      "migration rate: 60.31709791983764\n"
     ]
    },
    {
     "name": "stderr",
     "output_type": "stream",
     "text": [
      " 50%|██████████████████████▌                      | 1/2 [00:05<00:05,  5.39s/it]"
     ]
    }
   ],
   "source": [
    "cran = np.random.normal(2, 0.2, 60)    #crdist\n",
    "mran = np.random.normal(60.0/(365*24*60*60.0), 2.0/(365*24*60*60.0), 60)   #migration\n",
    "aran = np.random.normal(2e-9, 1e-10, 60)   #aggradation\n",
    "\n",
    "v1 = np.array(cran)\n",
    "v2 = np.array(mran)\n",
    "v3 = np.array(aran)\n",
    "\n",
    "x=np.linspace(0,10000,1000)\n",
    "y=np.sin(x*.001)*1000\n",
    "z=np.zeros(len(x))\n",
    "W=100.\n",
    "\n",
    "for i in range(4):\n",
    "    nit = 2                   # number of iterations\n",
    "    W = 100.0                    # channel width (m)\n",
    "    D = 10.0                      # channel depth (m)\n",
    "    depths = D * np.ones((nit,))  # channel depths for different iterations  \n",
    "    pad = 100                    # padding (number of nodepoints along centerline)\n",
    "    deltas = 50.0                # sampling distance along centerline          \n",
    "    Cfs = 0.011 * np.ones((nit,)) # dimensionless Chezy friction factor\n",
    "    crdist = 1.5 * W               # threshold distance at which cutoffs occur\n",
    "    kl = (60.0 + (i*10000000)/(365*24*60*60.0))    # migration rate constant (m/s)\n",
    "    kv =  1.0e-12               # vertical slope-dependent erosion rate constant (m/s)\n",
    "    dt = 31536000*i     # time step (s)\n",
    "    dens = 1000                  # density of water (kg/m3)\n",
    "    saved_ts = 1                # which time steps will be saved\n",
    "    n_bends = 3                 # approximate number of bends you want to model\n",
    "    Sl = 0.0                     # initial slope (matters more for submarine channels than rivers)\n",
    "    t1 = 0                    # time step when incision starts\n",
    "    t2 = 0                    # time step when lateral migration starts\n",
    "    t3 = 0                    # time step when aggradation starts\n",
    "    aggr_factor = 2e-9         # aggradation factor (m/s, about 0.18 m/year, it kicks in after t3) after t3)\n",
    "    print('sim time:', dt/(365.*24*60*60),'Years')  \n",
    "    print('migration rate:', kl)\n",
    "    os.chdir(r\"/Users/braydennoh/Downloads/UcayaliCenterlines\")\n",
    "    H=depths[0]\n",
    "    ch=mp.Channel(x,y,z,W,H)\n",
    "    chb=mp.ChannelBelt(channels=[ch], cutoffs=[], cl_times=[0.0], cutoff_times=[])\n",
    "    ch = mp.generate_initial_channel(W,D,Sl,deltas,pad,n_bends) # initialize channel\n",
    "    chb.migrate(nit,saved_ts,deltas,pad,crdist,depths,Cfs,kl,kv,dt,dens,t1,t2,t3,aggr_factor) # channel migration\n",
    "    channel_coordinate = pd.DataFrame({\"x\":chb.channels[1].x, \"y\":chb.channels[1].y}) # the way it work is this: chb.channels[i].x will give you the x coordinates for the ith time step\n",
    "    np.savetxt('SH%s.txt'% i, channel_coordinate, delimiter=',')\n"
   ]
  },
  {
   "cell_type": "code",
   "execution_count": null,
   "id": "6cd6c267",
   "metadata": {},
   "outputs": [],
   "source": [
    "for i in range(0,4):\n",
    "    globals()['SH%s'% i] = pd.read_csv('{}{}{}'.format('SH',i,'.txt'), sep=\",\", header=None)"
   ]
  },
  {
   "cell_type": "code",
   "execution_count": null,
   "id": "363d6f40",
   "metadata": {},
   "outputs": [],
   "source": [
    "df=pd.DataFrame({'x_values': range(1,101), 'y_values': np.random.randn(100)*80+range(1,101) })\n",
    "all_poss=['.','o','v','^','>','<','s','p','*','h','H','D','d','1','','']\n",
    "n = 100\n",
    "size = 1\n",
    "alpha = 0.1\n",
    "\n",
    "ax = SH0.plot(x =0, y=1, kind='scatter',  lw=0, color = '#440154', alpha=alpha, s=5,marker='s')\n",
    "for i in range(0,4):\n",
    "    eval('{}{}'.format('SH',i)).plot(ax = ax, x =0, y=1, kind='scatter', color = \"#440154\", lw=0, s=5, alpha=alpha ,marker='s')\n",
    "    plt.savefig(\"year10.png\", transparent=True)\n",
    "    "
   ]
  },
  {
   "cell_type": "code",
   "execution_count": null,
   "id": "f4b87b8c",
   "metadata": {},
   "outputs": [],
   "source": [
    "ax = SH2.plot(x =0, y=1, kind='scatter',  lw=0, color = '#440154', alpha=alpha, s=5,marker='s')"
   ]
  },
  {
   "cell_type": "code",
   "execution_count": null,
   "id": "70ec2171",
   "metadata": {},
   "outputs": [],
   "source": []
  }
 ],
 "metadata": {
  "kernelspec": {
   "display_name": "Python 3 (ipykernel)",
   "language": "python",
   "name": "python3"
  },
  "language_info": {
   "codemirror_mode": {
    "name": "ipython",
    "version": 3
   },
   "file_extension": ".py",
   "mimetype": "text/x-python",
   "name": "python",
   "nbconvert_exporter": "python",
   "pygments_lexer": "ipython3",
   "version": "3.9.7"
  }
 },
 "nbformat": 4,
 "nbformat_minor": 5
}
