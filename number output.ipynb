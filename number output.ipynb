{
 "cells": [
  {
   "cell_type": "code",
   "execution_count": 46,
   "metadata": {},
   "outputs": [],
   "source": [
    "import numpy as np\n",
    "import os\n",
    "import matplotlib.pyplot as plt\n",
    "%matplotlib inline\n",
    "import numpy\n",
    "\n",
    "\n",
    "import meanderpy as mp ## https://github.com/zsylvester/meanderpy\n",
    "from importlib import reload\n",
    "reload(mp)\n",
    "import matplotlib as mpl\n",
    "import pandas as pd"
   ]
  },
  {
   "cell_type": "code",
   "execution_count": 47,
   "metadata": {},
   "outputs": [
    {
     "name": "stdout",
     "output_type": "stream",
     "text": [
      "You are running this simulation for: 5.0 Years\n",
      "Migration rate constant = 8.333333333333332 m/yr\n"
     ]
    }
   ],
   "source": [
    "## Input Parameters\n",
    "\n",
    "nit = 1000                   # number of iterations\n",
    "W = 500.0                    # channel width (m)\n",
    "D = 10.0                      # channel depth (m)\n",
    "depths = D * np.ones((nit,))  # channel depths for different iterations  \n",
    "pad = 5000                    # padding (number of nodepoints along centerline)\n",
    "deltas = 500.0                # sampling distance along centerline           \n",
    "Cfs = 0.031 * np.ones((nit,)) # dimensionless Chezy friction factor\n",
    "crdist = 2 * W               # threshold distance at which cutoffs occur\n",
    "kl = 500.0/(365*24*60*60.0)   # migration rate constant (m/s)\n",
    "kv =  1.0e-12               # vertical slope-dependent erosion rate constant (m/s)\n",
    "dt = 1*0.05*365*24*60*60.0*.1     # time step (s)\n",
    "dens = 1000                  # density of water (kg/m3)\n",
    "saved_ts = 5                # which time steps will be saved\n",
    "n_bends = 15                 # approximate number of bends you want to model\n",
    "Sl = 0.0                     # initial slope (matters more for submarine channels than rivers)\n",
    "t1 = 0                    # time step when incision starts\n",
    "t2 = 0                    # time step when lateral migration starts\n",
    "t3 = 0                    # time step when aggradation starts\n",
    "aggr_factor = 2e-6        # aggradation factor (m/s, about 0.18 m/year, it kicks in after t3)\n",
    "print('You are running this simulation for:', dt*nit/(365.*24*60*60),'Years')\n",
    "print('Migration rate constant =', kl*60.*24.*365., 'm/yr')"
   ]
  },
  {
   "cell_type": "code",
   "execution_count": 48,
   "metadata": {},
   "outputs": [
    {
     "data": {
      "image/png": "[encoded data removed]",
      "text/plain": [
       "<Figure size 432x288 with 1 Axes>"
      ]
     },
     "metadata": {
      "needs_background": "light"
     },
     "output_type": "display_data"
    }
   ],
   "source": [
    "## Extracted Ucayali River Centerlines using Jon Schwenk's RivMAP matlab code\n",
    "## https://www.mathworks.com/matlabcentral/fileexchange/58264-rivmap-river-morphodynamics-from-analysis-of-planforms\n",
    "\n",
    "## Years: 1984-2015\n",
    "## 31-year timelapse\n",
    "os.chdir(r\"C:\\Users\\Family PC\\OneDrive - California Institute of Technology\\river\\Ucayali Centerlines\")\n",
    "## Extracted Ucayali River Centerlines using Jon Schwenk's RivMAP matlab code\n",
    "## https://www.mathworks.com/matlabcentral/fileexchange/58264-rivmap-river-morphodynamics-from-analysis-of-planforms\n",
    "\n",
    "## Years: 1984-2015\n",
    "## 31-year timelapse\n",
    "\n",
    "cl1=np.loadtxt('CL1.txt',delimiter=',')\n",
    "cl2=np.loadtxt('CL32.txt',delimiter=',')\n",
    "plt.plot(cl1[:,1],cl1[:,0],label='1984')\n",
    "plt.plot(cl2[:,1],cl2[:,0],label='2015')\n",
    "plt.legend()\n",
    "plt.title('Ucayali River Centerlines')\n",
    "plt.show()"
   ]
  },
  {
   "cell_type": "code",
   "execution_count": 49,
   "metadata": {},
   "outputs": [],
   "source": [
    "## Initialize Channel\n",
    "\n",
    "H=depths[0]\n",
    "y=cl1[:,0][::-1]*10\n",
    "x=cl1[:,1][::-1]*10\n",
    "\n",
    "# y=cl2[:,0]+np.random.rand(len(cl2[:,0]))/10\n",
    "# x=cl2[:,1]+np.random.rand(len(cl2[:,0]))/10\n",
    "z=np.zeros(len(x))\n",
    "\n",
    "ch=mp.Channel(x,y,z,W,H)\n",
    "chb=mp.ChannelBelt(channels=[ch], cutoffs=[], cl_times=[0.0], cutoff_times=[])"
   ]
  },
  {
   "cell_type": "code",
   "execution_count": 50,
   "metadata": {},
   "outputs": [],
   "source": [
    "ch = mp.generate_initial_channel(W,D,Sl,deltas,pad,n_bends) # initialize channel\n"
   ]
  },
  {
   "cell_type": "code",
   "execution_count": 51,
   "metadata": {
    "scrolled": true
   },
   "outputs": [
    {
     "name": "stderr",
     "output_type": "stream",
     "text": [
      "100%|██████████████████████████████████████████████████████████████████████████████| 1000/1000 [00:10<00:00, 99.44it/s]\n"
     ]
    }
   ],
   "source": [
    "## Run Simulation\n",
    "chb.migrate(nit,saved_ts,deltas,pad,crdist,depths,Cfs,kl,kv,dt,dens,t1,t2,t3,aggr_factor) # channel migration"
   ]
  },
  {
   "cell_type": "code",
   "execution_count": 52,
   "metadata": {},
   "outputs": [
    {
     "data": {
      "text/plain": [
       "[<meanderpy.meanderpy.Channel at 0x2158de178c8>,\n",
       " <meanderpy.meanderpy.Channel at 0x2158dcb4888>,\n",
       " <meanderpy.meanderpy.Channel at 0x2158dc50648>,\n",
       " <meanderpy.meanderpy.Channel at 0x2158deed7c8>,\n",
       " <meanderpy.meanderpy.Channel at 0x2158de52a48>,\n",
       " <meanderpy.meanderpy.Channel at 0x2158de52cc8>,\n",
       " <meanderpy.meanderpy.Channel at 0x2158de179c8>,\n",
       " <meanderpy.meanderpy.Channel at 0x2158dedc188>,\n",
       " <meanderpy.meanderpy.Channel at 0x2158dedcf88>,\n",
       " <meanderpy.meanderpy.Channel at 0x2158deed8c8>,\n",
       " <meanderpy.meanderpy.Channel at 0x2158de17608>,\n",
       " <meanderpy.meanderpy.Channel at 0x2158deedac8>,\n",
       " <meanderpy.meanderpy.Channel at 0x2158de70e48>,\n",
       " <meanderpy.meanderpy.Channel at 0x2158dedc948>,\n",
       " <meanderpy.meanderpy.Channel at 0x2158ded8f48>,\n",
       " <meanderpy.meanderpy.Channel at 0x2158de5d6c8>,\n",
       " <meanderpy.meanderpy.Channel at 0x2158ded84c8>,\n",
       " <meanderpy.meanderpy.Channel at 0x2158ded8688>,\n",
       " <meanderpy.meanderpy.Channel at 0x2158d554f48>,\n",
       " <meanderpy.meanderpy.Channel at 0x2158dc50dc8>,\n",
       " <meanderpy.meanderpy.Channel at 0x2158ded8388>,\n",
       " <meanderpy.meanderpy.Channel at 0x2158de19788>,\n",
       " <meanderpy.meanderpy.Channel at 0x2158deed808>,\n",
       " <meanderpy.meanderpy.Channel at 0x2158dedcb48>,\n",
       " <meanderpy.meanderpy.Channel at 0x2158dcb4808>,\n",
       " <meanderpy.meanderpy.Channel at 0x2158dcbb308>,\n",
       " <meanderpy.meanderpy.Channel at 0x2158dcbb388>,\n",
       " <meanderpy.meanderpy.Channel at 0x2158ded8448>,\n",
       " <meanderpy.meanderpy.Channel at 0x2158dc43f48>,\n",
       " <meanderpy.meanderpy.Channel at 0x2158dc43c88>,\n",
       " <meanderpy.meanderpy.Channel at 0x2158dc43dc8>,\n",
       " <meanderpy.meanderpy.Channel at 0x2158db8ac48>,\n",
       " <meanderpy.meanderpy.Channel at 0x2158db8ab88>,\n",
       " <meanderpy.meanderpy.Channel at 0x2158de70f48>,\n",
       " <meanderpy.meanderpy.Channel at 0x2158dde9148>,\n",
       " <meanderpy.meanderpy.Channel at 0x2158dcbb488>,\n",
       " <meanderpy.meanderpy.Channel at 0x2158de70b48>,\n",
       " <meanderpy.meanderpy.Channel at 0x2158de70688>,\n",
       " <meanderpy.meanderpy.Channel at 0x2158de70348>,\n",
       " <meanderpy.meanderpy.Channel at 0x2158de70148>,\n",
       " <meanderpy.meanderpy.Channel at 0x2158de70908>,\n",
       " <meanderpy.meanderpy.Channel at 0x2158de709c8>,\n",
       " <meanderpy.meanderpy.Channel at 0x2158de708c8>,\n",
       " <meanderpy.meanderpy.Channel at 0x2158de70d08>,\n",
       " <meanderpy.meanderpy.Channel at 0x2158de70c08>,\n",
       " <meanderpy.meanderpy.Channel at 0x2158de70588>,\n",
       " <meanderpy.meanderpy.Channel at 0x2158de70848>,\n",
       " <meanderpy.meanderpy.Channel at 0x2158de70888>,\n",
       " <meanderpy.meanderpy.Channel at 0x2158de93608>,\n",
       " <meanderpy.meanderpy.Channel at 0x2158de93808>,\n",
       " <meanderpy.meanderpy.Channel at 0x2158ded8f88>,\n",
       " <meanderpy.meanderpy.Channel at 0x2158de70448>,\n",
       " <meanderpy.meanderpy.Channel at 0x2158de70e08>,\n",
       " <meanderpy.meanderpy.Channel at 0x2158de70548>,\n",
       " <meanderpy.meanderpy.Channel at 0x2158dc50188>,\n",
       " <meanderpy.meanderpy.Channel at 0x2158de936c8>,\n",
       " <meanderpy.meanderpy.Channel at 0x2158de93148>,\n",
       " <meanderpy.meanderpy.Channel at 0x2158de93108>,\n",
       " <meanderpy.meanderpy.Channel at 0x2158de934c8>,\n",
       " <meanderpy.meanderpy.Channel at 0x2158de93f08>,\n",
       " <meanderpy.meanderpy.Channel at 0x2158de931c8>,\n",
       " <meanderpy.meanderpy.Channel at 0x2158de93e08>,\n",
       " <meanderpy.meanderpy.Channel at 0x2158de93a48>,\n",
       " <meanderpy.meanderpy.Channel at 0x2158d85a348>,\n",
       " <meanderpy.meanderpy.Channel at 0x2158de930c8>,\n",
       " <meanderpy.meanderpy.Channel at 0x2158de93248>,\n",
       " <meanderpy.meanderpy.Channel at 0x2158de933c8>,\n",
       " <meanderpy.meanderpy.Channel at 0x2158de93a08>,\n",
       " <meanderpy.meanderpy.Channel at 0x2158de93948>,\n",
       " <meanderpy.meanderpy.Channel at 0x2158de93d88>,\n",
       " <meanderpy.meanderpy.Channel at 0x2158de93708>,\n",
       " <meanderpy.meanderpy.Channel at 0x2158de93cc8>,\n",
       " <meanderpy.meanderpy.Channel at 0x2158de932c8>,\n",
       " <meanderpy.meanderpy.Channel at 0x2158de93488>,\n",
       " <meanderpy.meanderpy.Channel at 0x2158de93b88>,\n",
       " <meanderpy.meanderpy.Channel at 0x2158de93748>,\n",
       " <meanderpy.meanderpy.Channel at 0x2158de93fc8>,\n",
       " <meanderpy.meanderpy.Channel at 0x2158de93688>,\n",
       " <meanderpy.meanderpy.Channel at 0x2158de93dc8>,\n",
       " <meanderpy.meanderpy.Channel at 0x2158de938c8>,\n",
       " <meanderpy.meanderpy.Channel at 0x2158de93448>,\n",
       " <meanderpy.meanderpy.Channel at 0x2158de93d48>,\n",
       " <meanderpy.meanderpy.Channel at 0x2158de93508>,\n",
       " <meanderpy.meanderpy.Channel at 0x2158de939c8>,\n",
       " <meanderpy.meanderpy.Channel at 0x2158de93388>,\n",
       " <meanderpy.meanderpy.Channel at 0x2158de93288>,\n",
       " <meanderpy.meanderpy.Channel at 0x2158de93408>,\n",
       " <meanderpy.meanderpy.Channel at 0x2158de93348>,\n",
       " <meanderpy.meanderpy.Channel at 0x2158de7c548>,\n",
       " <meanderpy.meanderpy.Channel at 0x2158de7cc08>,\n",
       " <meanderpy.meanderpy.Channel at 0x2158de7c1c8>,\n",
       " <meanderpy.meanderpy.Channel at 0x2158de7c5c8>,\n",
       " <meanderpy.meanderpy.Channel at 0x2158de7c648>,\n",
       " <meanderpy.meanderpy.Channel at 0x2158de7cb48>,\n",
       " <meanderpy.meanderpy.Channel at 0x2158de7c888>,\n",
       " <meanderpy.meanderpy.Channel at 0x2158de7cd48>,\n",
       " <meanderpy.meanderpy.Channel at 0x2158de7c3c8>,\n",
       " <meanderpy.meanderpy.Channel at 0x2158de7ca88>,\n",
       " <meanderpy.meanderpy.Channel at 0x2158de7cd08>,\n",
       " <meanderpy.meanderpy.Channel at 0x2158de7c788>,\n",
       " <meanderpy.meanderpy.Channel at 0x2158db8a588>,\n",
       " <meanderpy.meanderpy.Channel at 0x2158de93d08>,\n",
       " <meanderpy.meanderpy.Channel at 0x2158de52b88>,\n",
       " <meanderpy.meanderpy.Channel at 0x2158de93f48>,\n",
       " <meanderpy.meanderpy.Channel at 0x2158de7cf48>,\n",
       " <meanderpy.meanderpy.Channel at 0x2158de7c848>,\n",
       " <meanderpy.meanderpy.Channel at 0x2158de7c088>,\n",
       " <meanderpy.meanderpy.Channel at 0x2158de7c408>,\n",
       " <meanderpy.meanderpy.Channel at 0x2158de7c988>,\n",
       " <meanderpy.meanderpy.Channel at 0x2158de7cf88>,\n",
       " <meanderpy.meanderpy.Channel at 0x2158de7c0c8>,\n",
       " <meanderpy.meanderpy.Channel at 0x2158de7c6c8>,\n",
       " <meanderpy.meanderpy.Channel at 0x2158de7c9c8>,\n",
       " <meanderpy.meanderpy.Channel at 0x2158de7cc48>,\n",
       " <meanderpy.meanderpy.Channel at 0x2158de7c048>,\n",
       " <meanderpy.meanderpy.Channel at 0x2158de7c488>,\n",
       " <meanderpy.meanderpy.Channel at 0x2158de7c348>,\n",
       " <meanderpy.meanderpy.Channel at 0x2158de7c8c8>,\n",
       " <meanderpy.meanderpy.Channel at 0x2158de7cbc8>,\n",
       " <meanderpy.meanderpy.Channel at 0x2158de7cd88>,\n",
       " <meanderpy.meanderpy.Channel at 0x2158de7c608>,\n",
       " <meanderpy.meanderpy.Channel at 0x2158de7c188>,\n",
       " <meanderpy.meanderpy.Channel at 0x2158de7c288>,\n",
       " <meanderpy.meanderpy.Channel at 0x2158de7cdc8>,\n",
       " <meanderpy.meanderpy.Channel at 0x2158de7c248>,\n",
       " <meanderpy.meanderpy.Channel at 0x2158de7ce08>,\n",
       " <meanderpy.meanderpy.Channel at 0x2158de85ac8>,\n",
       " <meanderpy.meanderpy.Channel at 0x2158de85208>,\n",
       " <meanderpy.meanderpy.Channel at 0x2158de85308>,\n",
       " <meanderpy.meanderpy.Channel at 0x2158de85a48>,\n",
       " <meanderpy.meanderpy.Channel at 0x2158de85908>,\n",
       " <meanderpy.meanderpy.Channel at 0x2158de85b48>,\n",
       " <meanderpy.meanderpy.Channel at 0x2158de85588>,\n",
       " <meanderpy.meanderpy.Channel at 0x2158de85448>,\n",
       " <meanderpy.meanderpy.Channel at 0x2158de85688>,\n",
       " <meanderpy.meanderpy.Channel at 0x2158de7ca08>,\n",
       " <meanderpy.meanderpy.Channel at 0x2158de854c8>,\n",
       " <meanderpy.meanderpy.Channel at 0x2158de85fc8>,\n",
       " <meanderpy.meanderpy.Channel at 0x2158de85e88>,\n",
       " <meanderpy.meanderpy.Channel at 0x2158de85708>,\n",
       " <meanderpy.meanderpy.Channel at 0x2158dcc0848>,\n",
       " <meanderpy.meanderpy.Channel at 0x2158dcc0d88>,\n",
       " <meanderpy.meanderpy.Channel at 0x2158dcc0d48>,\n",
       " <meanderpy.meanderpy.Channel at 0x2158de85b08>,\n",
       " <meanderpy.meanderpy.Channel at 0x2158dcc0908>,\n",
       " <meanderpy.meanderpy.Channel at 0x2158de85608>,\n",
       " <meanderpy.meanderpy.Channel at 0x2158dcc0288>,\n",
       " <meanderpy.meanderpy.Channel at 0x2158de85d08>,\n",
       " <meanderpy.meanderpy.Channel at 0x2158dcc0c08>,\n",
       " <meanderpy.meanderpy.Channel at 0x2158dcc03c8>,\n",
       " <meanderpy.meanderpy.Channel at 0x2158dcc0a48>,\n",
       " <meanderpy.meanderpy.Channel at 0x2158de93e48>,\n",
       " <meanderpy.meanderpy.Channel at 0x2158de859c8>,\n",
       " <meanderpy.meanderpy.Channel at 0x2158de85188>,\n",
       " <meanderpy.meanderpy.Channel at 0x2158de856c8>,\n",
       " <meanderpy.meanderpy.Channel at 0x2158de85348>,\n",
       " <meanderpy.meanderpy.Channel at 0x2158de85948>,\n",
       " <meanderpy.meanderpy.Channel at 0x2158de85cc8>,\n",
       " <meanderpy.meanderpy.Channel at 0x2158de85bc8>,\n",
       " <meanderpy.meanderpy.Channel at 0x2158de855c8>,\n",
       " <meanderpy.meanderpy.Channel at 0x2158de857c8>,\n",
       " <meanderpy.meanderpy.Channel at 0x2158de85848>,\n",
       " <meanderpy.meanderpy.Channel at 0x2158de85488>,\n",
       " <meanderpy.meanderpy.Channel at 0x2158de85648>,\n",
       " <meanderpy.meanderpy.Channel at 0x2158de9a048>,\n",
       " <meanderpy.meanderpy.Channel at 0x2158de9a688>,\n",
       " <meanderpy.meanderpy.Channel at 0x2158de85108>,\n",
       " <meanderpy.meanderpy.Channel at 0x2158de7cb88>,\n",
       " <meanderpy.meanderpy.Channel at 0x2158de9a948>,\n",
       " <meanderpy.meanderpy.Channel at 0x2158de9aac8>,\n",
       " <meanderpy.meanderpy.Channel at 0x2158de858c8>,\n",
       " <meanderpy.meanderpy.Channel at 0x2158de9a3c8>,\n",
       " <meanderpy.meanderpy.Channel at 0x2158de9afc8>,\n",
       " <meanderpy.meanderpy.Channel at 0x2158de9a408>,\n",
       " <meanderpy.meanderpy.Channel at 0x2158de9a5c8>,\n",
       " <meanderpy.meanderpy.Channel at 0x2158de9a208>,\n",
       " <meanderpy.meanderpy.Channel at 0x2158de9a188>,\n",
       " <meanderpy.meanderpy.Channel at 0x2158de9a808>,\n",
       " <meanderpy.meanderpy.Channel at 0x2158de9ad48>,\n",
       " <meanderpy.meanderpy.Channel at 0x2158de9adc8>,\n",
       " <meanderpy.meanderpy.Channel at 0x2158de9abc8>,\n",
       " <meanderpy.meanderpy.Channel at 0x2158de9aec8>,\n",
       " <meanderpy.meanderpy.Channel at 0x2158de9ad88>,\n",
       " <meanderpy.meanderpy.Channel at 0x2158de93b48>,\n",
       " <meanderpy.meanderpy.Channel at 0x2158de85c48>,\n",
       " <meanderpy.meanderpy.Channel at 0x2158de9a908>,\n",
       " <meanderpy.meanderpy.Channel at 0x2158de9aa88>,\n",
       " <meanderpy.meanderpy.Channel at 0x2158de9a708>,\n",
       " <meanderpy.meanderpy.Channel at 0x2158de9a2c8>,\n",
       " <meanderpy.meanderpy.Channel at 0x2158de9ab88>,\n",
       " <meanderpy.meanderpy.Channel at 0x2158de9a388>,\n",
       " <meanderpy.meanderpy.Channel at 0x2158de9ae88>,\n",
       " <meanderpy.meanderpy.Channel at 0x2158de9a748>,\n",
       " <meanderpy.meanderpy.Channel at 0x2158de9a788>,\n",
       " <meanderpy.meanderpy.Channel at 0x2158de9a7c8>,\n",
       " <meanderpy.meanderpy.Channel at 0x2158de85e08>,\n",
       " <meanderpy.meanderpy.Channel at 0x2158de9a608>,\n",
       " <meanderpy.meanderpy.Channel at 0x2158de73508>,\n",
       " <meanderpy.meanderpy.Channel at 0x2158de730c8>,\n",
       " <meanderpy.meanderpy.Channel at 0x2158de73888>]"
      ]
     },
     "execution_count": 52,
     "metadata": {},
     "output_type": "execute_result"
    }
   ],
   "source": []
  },
  {
   "cell_type": "code",
   "execution_count": 56,
   "metadata": {},
   "outputs": [
    {
     "name": "stdout",
     "output_type": "stream",
     "text": [
      "[ 1710.  1710.  1710. ... 18210. 18220. 18230.]\n"
     ]
    },
    {
     "data": {
      "image/png": "[encoded data removed]",
      "text/plain": [
       "<Figure size 432x288 with 1 Axes>"
      ]
     },
     "metadata": {
      "needs_background": "light"
     },
     "output_type": "display_data"
    }
   ],
   "source": [
    "channel_coordinate = pd.DataFrame({\"x\":chb.channels[120].x, \"y\":chb.channels[120].y}) # the way it work is this: chb.channels[i].x will give you the x coordinates for the ith time step\n",
    "channel_coordinate.plot(x=\"x\",y=\"y\") # plot the meander\n",
    "\n"
   ]
  },
  {
   "cell_type": "code",
   "execution_count": 57,
   "metadata": {},
   "outputs": [],
   "source": [
    "np.savetxt('test.csv', channel_coordinate, delimiter=',')\n"
   ]
  },
  {
   "cell_type": "code",
   "execution_count": null,
   "metadata": {},
   "outputs": [],
   "source": []
  },
  {
   "cell_type": "code",
   "execution_count": null,
   "metadata": {},
   "outputs": [],
   "source": []
  }
 ],
 "metadata": {
  "kernelspec": {
   "display_name": "Python 3",
   "language": "python",
   "name": "python3"
  },
  "language_info": {
   "codemirror_mode": {
    "name": "ipython",
    "version": 3
   },
   "file_extension": ".py",
   "mimetype": "text/x-python",
   "name": "python",
   "nbconvert_exporter": "python",
   "pygments_lexer": "ipython3",
   "version": "3.7.6"
  }
 },
 "nbformat": 4,
 "nbformat_minor": 4
}
