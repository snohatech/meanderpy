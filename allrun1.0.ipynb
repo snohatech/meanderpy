{
 "cells": [
  {
   "cell_type": "code",
   "execution_count": 1,
   "metadata": {},
   "outputs": [],
   "source": [
    "import numpy as np\n",
    "import os\n",
    "import matplotlib.pyplot as plt\n",
    "%matplotlib inline\n",
    "import matplotlib.patches as ptc\n",
    "import pandas as pd\n",
    "import meanderpy as mp ## https://github.com/zsylvester/meanderpy\n",
    "from importlib import reload\n",
    "reload(mp)\n",
    "import matplotlib as mpl\n",
    "import numpy as np\n",
    "import matplotlib as mpl\n",
    "mpl.rcParams['figure.dpi'] = 600"
   ]
  },
  {
   "cell_type": "code",
   "execution_count": null,
   "metadata": {},
   "outputs": [
    {
     "name": "stderr",
     "output_type": "stream",
     "text": [
      "\r",
      "  0%|                                                                                         | 0/2000 [00:00<?, ?it/s]"
     ]
    },
    {
     "name": "stdout",
     "output_type": "stream",
     "text": [
      "You are running this simulation for: 10.0 Years\n",
      "Migration rate constant = 1.46421467649616 m/yr\n"
     ]
    },
    {
     "name": "stderr",
     "output_type": "stream",
     "text": [
      " 23%|██████████████████▌                                                            | 469/2000 [00:12<35:46,  1.40s/it]"
     ]
    }
   ],
   "source": [
    "cran = np.random.uniform(low=1, high=6, size=(50,))\n",
    "mran = np.random.uniform(low=30.0/(365*24*60*60.0), high=90.0/(365*24*60*60.0), size=(50,))\n",
    "aran = np.random.uniform(low=1e-9, high=3e-9, size=(50,))\n",
    "wran = np.random.uniform(low=400, high=1500, size=(50,))\n",
    "dran = np.random.uniform(low=8, high=15, size=(50,))\n",
    "\n",
    "v1 = np.array(cran)\n",
    "v2 = np.array(mran)\n",
    "v3 = np.array(aran)\n",
    "v4 = np.array(wran)\n",
    "v5 = np.array(dran)\n",
    "\n",
    "\n",
    "for i in range(10):\n",
    "    nit = 2000                   # number of iterations\n",
    "    W = v4[i]                    # channel width (m)\n",
    "    D = v5[i]                      # channel depth (m)\n",
    "    depths = D * np.ones((nit,))  # channel depths for different iterations  \n",
    "    pad = 5000                    # padding (number of nodepoints along centerline)\n",
    "    deltas = 500.0                # sampling distance along centerline          \n",
    "    Cfs = 0.031 * np.ones((nit,)) # dimensionless Chezy friction factor\n",
    "    crdist = v1[i] * W                # threshold distance at which cutoffs occur\n",
    "    kl = v2[i]                     # migration rate constant (m/s)\n",
    "    kv =  1.0e-12               # vertical slope-dependent erosion rate constant (m/s)\n",
    "    dt = 1*0.05*365*24*60*60.0*.1     # time step (s)\n",
    "    dens = 1000                  # density of water (kg/m3)\n",
    "    saved_ts = 10                # which time steps will be saved\n",
    "    n_bends = 15                 # approximate number of bends you want to model\n",
    "    Sl = 0.0                     # initial slope (matters more for submarine channels than rivers)\n",
    "    t1 = 0                    # time step when incision starts\n",
    "    t2 = 0                    # time step when lateral migration starts\n",
    "    t3 = 0                    # time step when aggradation starts\n",
    "    aggr_factor = v3[i]        # aggradation factor (m/s, about 0.18 m/year, it kicks in after t3)\n",
    "   \n",
    "    os.chdir(r\"C:\\Users\\Family PC\\OneDrive - California Institute of Technology\\river\\Ucayali Centerlines\")\n",
    "    cl1=np.loadtxt('CL1.txt',delimiter=',')\n",
    "    cl2=np.loadtxt('CL32.txt',delimiter=',')\n",
    "    H=depths[0]\n",
    "    y=cl1[:,0][::-1]*10\n",
    "    x=cl1[:,1][::-1]*10\n",
    "    z=np.zeros(len(x))\n",
    "    \n",
    "    print('You are running this simulation for:', dt*nit/(365.*24*60*60),'Years')\n",
    "    print('Migration rate constant =', kl*60.*24.*365., 'm/yr')\n",
    "    \n",
    "    ch=mp.Channel(x,y,z,W,H)\n",
    "    chb=mp.ChannelBelt(channels=[ch], cutoffs=[], cl_times=[0.0], cutoff_times=[])\n",
    "    ch = mp.generate_initial_channel(W,D,Sl,deltas,pad,n_bends) # initialize channel\n",
    "    chb.migrate(nit,saved_ts,deltas,pad,crdist,depths,Cfs,kl,kv,dt,dens,t1,t2,t3,aggr_factor) # channel migration\n",
    "    channel_coordinate = pd.DataFrame({\"x\":chb.channels[120].x, \"y\":chb.channels[120].y}) # the way it work is this: chb.channels[i].x will give you the x coordinates for the ith time step\n",
    "    np.savetxt('OP%s.txt'% i, channel_coordinate, delimiter=',')"
   ]
  },
  {
   "cell_type": "code",
   "execution_count": null,
   "metadata": {},
   "outputs": [],
   "source": []
  },
  {
   "cell_type": "code",
   "execution_count": null,
   "metadata": {},
   "outputs": [],
   "source": [
    "for i in range(0,10):\n",
    "    globals()['cc1%s'% i] = pd.read_csv('{}{}{}'.format('cc1',i,'.txt'), sep=\",\", header=None)\n",
    "    #cl = pd.read_csv('{}{}{}'.format('CL',i,'.txt'), sep=\",\", header=None)\n",
    "    globals()['cc2%s'% i] = pd.read_csv('{}{}{}'.format('cc2',i,'.txt'), sep=\",\", header=None)\n",
    "    #cl = pd.read_csv('{}{}{}'.format('CL',i,'.txt'), sep=\",\", header=None)\n",
    "    globals()['cc3%s'% i] = pd.read_csv('{}{}{}'.format('cc3',i,'.txt'), sep=\",\", header=None)\n",
    "    #cl = pd.read_csv('{}{}{}'.format('CL',i,'.txt'), sep=\",\", header=None)\n",
    "    globals()['cc4%s'% i] = pd.read_csv('{}{}{}'.format('cc4',i,'.txt'), sep=\",\", header=None)\n",
    "    #cl = pd.read_csv('{}{}{}'.format('CL',i,'.txt'), sep=\",\", header=None)\n",
    "    globals()['cc5%s'% i] = pd.read_csv('{}{}{}'.format('cc5',i,'.txt'), sep=\",\", header=None)\n",
    "    #cl = pd.read_csv('{}{}{}'.format('CL',i,'.txt'), sep=\",\", header=None)\n",
    "    globals()['cc6%s'% i] = pd.read_csv('{}{}{}'.format('cc6',i,'.txt'), sep=\",\", header=None)\n",
    "    #cl = pd.read_csv('{}{}{}'.format('CL',i,'.txt'), sep=\",\", header=None)\n",
    "    globals()['cc7%s'% i] = pd.read_csv('{}{}{}'.format('cc7',i,'.txt'), sep=\",\", header=None)\n",
    "    #cl = pd.read_csv('{}{}{}'.format('CL',i,'.txt'), sep=\",\", header=None)\n",
    "    globals()['cc8%s'% i] = pd.read_csv('{}{}{}'.format('cc8',i,'.txt'), sep=\",\", header=None)\n",
    "    #cl = pd.read_csv('{}{}{}'.format('CL',i,'.txt'), sep=\",\", header=None)\n",
    "    globals()['cc9%s'% i] = pd.read_csv('{}{}{}'.format('cc9',i,'.txt'), sep=\",\", header=None)\n",
    "    #cl = pd.read_csv('{}{}{}'.format('CL',i,'.txt'), sep=\",\", header=None)\n",
    "    globals()['cc10%s'% i] = pd.read_csv('{}{}{}'.format('cc10',i,'.txt'), sep=\",\", header=None)\n",
    "    #cl = pd.read_csv('{}{}{}'.format('CL',i,'.txt'), sep=\",\", header=None)\n",
    "    globals()['cc11%s'% i] = pd.read_csv('{}{}{}'.format('cc11',i,'.txt'), sep=\",\", header=None)\n",
    "    #cl = pd.read_csv('{}{}{}'.format('CL',i,'.txt'), sep=\",\", header=None)\n",
    "\n",
    "    \n",
    "df=pd.DataFrame({'x_values': range(1,101), 'y_values': np.random.randn(100)*80+range(1,101) })\n",
    "all_poss=['.','o','v','^','>','<','s','p','*','h','H','D','d','1','','']\n",
    "n = 100\n",
    "size = 1\n",
    "alpha = 0.3\n",
    "population = 10\n",
    "\n",
    "ax = cc1.plot(x =0, y=1, kind='scatter',  lw=0, alpha=alpha, s=15, color='#440154',marker='s')\n",
    "for i in range(0,population):\n",
    "    eval('{}{}'.format('cc1',i)).plot(ax = ax, x =0, y=1, kind='scatter',  lw=0, s=15, alpha=alpha, color = '#440154',marker='s')"
   ]
  },
  {
   "cell_type": "code",
   "execution_count": null,
   "metadata": {},
   "outputs": [],
   "source": [
    "ax = cc2.plot(x =0, y=1, kind='scatter',  lw=0, alpha=alpha, s=15, color='#482475',marker='s')\n",
    "for i in range(0,population):\n",
    "    eval('{}{}'.format('cc2',i)).plot(ax = ax, x =0, y=1, kind='scatter',  lw=0, s=15, alpha=alpha, color = '#482475',marker='s')"
   ]
  },
  {
   "cell_type": "code",
   "execution_count": null,
   "metadata": {},
   "outputs": [],
   "source": [
    "ax = cc3.plot(x =0, y=1, kind='scatter',  lw=0, alpha=alpha, s=15, color='#414487',marker='s')\n",
    "for i in range(0,population):\n",
    "    eval('{}{}'.format('cc3',i)).plot(ax = ax, x =0, y=1, kind='scatter',  lw=0, s=15, alpha=alpha, color = '#414487',marker='s')"
   ]
  },
  {
   "cell_type": "code",
   "execution_count": null,
   "metadata": {},
   "outputs": [],
   "source": [
    "ax = cc4.plot(x =0, y=1, kind='scatter',  lw=0, alpha=alpha, s=15, color='#355f8d',marker='s')\n",
    "for i in range(0,population):\n",
    "    eval('{}{}'.format('cc4',i)).plot(ax = ax, x =0, y=1, kind='scatter',  lw=0, s=15, alpha=alpha, color = '#355f8d',marker='s')"
   ]
  },
  {
   "cell_type": "code",
   "execution_count": null,
   "metadata": {},
   "outputs": [],
   "source": [
    "ax = cc5.plot(x =0, y=1, kind='scatter',  lw=0, alpha=alpha, s=15, color='#2a788e',marker='s')\n",
    "for i in range(0,population):\n",
    "    eval('{}{}'.format('cc5',i)).plot(ax = ax, x =0, y=1, kind='scatter',  lw=0, s=15, alpha=alpha, color = '#2a788e',marker='s')"
   ]
  },
  {
   "cell_type": "code",
   "execution_count": null,
   "metadata": {},
   "outputs": [],
   "source": [
    "ax = cc6.plot(x =0, y=1, kind='scatter',  lw=0, alpha=alpha, s=15, color='#21918c',marker='s')\n",
    "for i in range(0,population):\n",
    "    eval('{}{}'.format('cc6',i)).plot(ax = ax, x =0, y=1, kind='scatter',  lw=0, s=15, alpha=alpha, color = '#21918c',marker='s')"
   ]
  },
  {
   "cell_type": "code",
   "execution_count": null,
   "metadata": {},
   "outputs": [],
   "source": [
    "ax = cc7.plot(x =0, y=1, kind='scatter',  lw=0, alpha=alpha, s=15, color='#22a884',marker='s')\n",
    "for i in range(0,population):\n",
    "    eval('{}{}'.format('cc7',i)).plot(ax = ax, x =0, y=1, kind='scatter',  lw=0, s=15, alpha=alpha, color = '#22a884',marker='s')"
   ]
  },
  {
   "cell_type": "code",
   "execution_count": null,
   "metadata": {},
   "outputs": [],
   "source": [
    "ax = cc8.plot(x =0, y=1, kind='scatter',  lw=0, alpha=alpha, s=15, color='#44bf70',marker='s')\n",
    "for i in range(0,population):\n",
    "    eval('{}{}'.format('cc8',i)).plot(ax = ax, x =0, y=1, kind='scatter',  lw=0, s=15, alpha=alpha, color = '#44bf70',marker='s')"
   ]
  },
  {
   "cell_type": "code",
   "execution_count": null,
   "metadata": {},
   "outputs": [],
   "source": [
    "ax = cc9.plot(x =0, y=1, kind='scatter',  lw=0, alpha=alpha, s=15, color='#7ad151',marker='s')\n",
    "for i in range(0,population):\n",
    "    eval('{}{}'.format('cc9',i)).plot(ax = ax, x =0, y=1, kind='scatter',  lw=0, s=15, alpha=alpha, color = '#7ad151',marker='s')"
   ]
  },
  {
   "cell_type": "code",
   "execution_count": null,
   "metadata": {},
   "outputs": [],
   "source": [
    "ax = cc10.plot(x =0, y=1, kind='scatter',  lw=0, alpha=alpha, s=15, color='#bddf26',marker='s')\n",
    "for i in range(0,population):\n",
    "    eval('{}{}'.format('cc10',i)).plot(ax = ax, x =0, y=1, kind='scatter',  lw=0, s=15, alpha=alpha, color = '#bddf26',marker='s')"
   ]
  },
  {
   "cell_type": "code",
   "execution_count": null,
   "metadata": {},
   "outputs": [],
   "source": [
    "ax = cc11.plot(x =0, y=1, kind='scatter',  lw=0, alpha=alpha, s=15, color='#fde725',marker='s')\n",
    "for i in range(0,population):\n",
    "    eval('{}{}'.format('cc11',i)).plot(ax = ax, x =0, y=1, kind='scatter',  lw=0, s=15, alpha=alpha, color = '#fde725',marker='s')"
   ]
  },
  {
   "cell_type": "code",
   "execution_count": null,
   "metadata": {},
   "outputs": [],
   "source": []
  },
  {
   "cell_type": "code",
   "execution_count": null,
   "metadata": {},
   "outputs": [],
   "source": []
  }
 ],
 "metadata": {
  "kernelspec": {
   "display_name": "Python 3",
   "language": "python",
   "name": "python3"
  },
  "language_info": {
   "codemirror_mode": {
    "name": "ipython",
    "version": 3
   },
   "file_extension": ".py",
   "mimetype": "text/x-python",
   "name": "python",
   "nbconvert_exporter": "python",
   "pygments_lexer": "ipython3",
   "version": "3.7.6"
  }
 },
 "nbformat": 4,
 "nbformat_minor": 4
}
